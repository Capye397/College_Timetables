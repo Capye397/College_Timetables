{
 "cells": [
  {
   "cell_type": "code",
   "execution_count": 1,
   "id": "6035ac58-121c-47d6-be34-afdb21829694",
   "metadata": {},
   "outputs": [],
   "source": [
    "import json\n",
    "from linebot import LineBotApi\n",
    "from linebot.models import TextSendMessage\n",
    "from datetime import datetime"
   ]
  },
  {
   "cell_type": "code",
   "execution_count": 2,
   "id": "d8db20c0-a698-4f3e-b2ec-a111db78378a",
   "metadata": {},
   "outputs": [
    {
     "data": {
      "text/plain": [
       "'Ua77bfc1eb47705938c3f38568564c96b'"
      ]
     },
     "execution_count": 2,
     "metadata": {},
     "output_type": "execute_result"
    }
   ],
   "source": [
    "file = open('info.json','r')\n",
    "info = json.load(file)\n",
    "\n",
    "info['your_id']"
   ]
  },
  {
   "cell_type": "code",
   "execution_count": 3,
   "id": "4bae0f3e-603c-44c1-9e39-b46f6888ee15",
   "metadata": {},
   "outputs": [
    {
     "data": {
      "text/plain": [
       "'環境リスク : 柴田 : 8206'"
      ]
     },
     "execution_count": 3,
     "metadata": {},
     "output_type": "execute_result"
    }
   ],
   "source": [
    "sqedule = [\n",
    "    ['会計システム : 村上 : 8209','知的財産権 : 山口 : 7105'],\n",
    "    ['データ解析入門 : 徐 : 5209','環境リスク : 柴田 : 8206'],\n",
    "    ['情報リスクマネジメント : 角田 : 5209','ファイナンス概論 : 喜多村 : 8209','データマイニング入門 : 井上 : 8203'],\n",
    "    ['金融リスク論 : 安藤 : 5209','ビジネスコミュニケーション : 山本 : オンライン'],\n",
    "    ['製品安全マネジメント : 越山 : 8105','科学文化史 : 小林 : 7206','環境保護と法 : 藤本 : オンライン']\n",
    "]\n",
    "  \n",
    "          \n",
    "sqedule[1][1]"
   ]
  },
  {
   "cell_type": "code",
   "execution_count": 4,
   "id": "c02e4f2f-3113-4c3b-93c2-4516489cf3db",
   "metadata": {
    "tags": []
   },
   "outputs": [],
   "source": [
    "week = datetime.today().weekday()\n",
    "hour = datetime.now().hour"
   ]
  },
  {
   "cell_type": "code",
   "execution_count": 18,
   "id": "00a004fb-8012-45b6-8ccc-804bc044bc44",
   "metadata": {
    "tags": []
   },
   "outputs": [],
   "source": [
    "while True: \n",
    "        ## 月曜日\n",
    "        if week == 0 and hour < 10:\n",
    "            x = sqedule[week][0]\n",
    "            break\n",
    "        if week == 0 and hour < 12:\n",
    "            x = sqedule[week][1]\n",
    "            bewak\n",
    "        ## 火曜日        \n",
    "        if week == 1 and hour < 12:\n",
    "            x = sqedule[week][0]\n",
    "            break\n",
    "        if week == 1 and hour < 14:\n",
    "            x = sqedule[week][1]\n",
    "            break\n",
    "        ##水曜日    \n",
    "        if week == 2 and hour < 10:\n",
    "            x = sqedule[week][0]\n",
    "            break\n",
    "        if week == 2 and hour < 13:\n",
    "            x = sqedule[week][1]\n",
    "            break\n",
    "        if week == 2 and hour < 15:\n",
    "            x = sqedule[week][2]\n",
    "            break\n",
    "        ## 木曜日 \n",
    "        if week == 3 and hour < 10:\n",
    "            x = sqedule[week][0]\n",
    "            break\n",
    "        if week == 3 and hour < 15:\n",
    "            x = sqedule[week][1]\n",
    "            break\n",
    "       ## 金曜日\n",
    "        if week == 4 and hour < 10:\n",
    "            x = sqedule[week][0]\n",
    "            break\n",
    "        if week == 4 and hour < 13:\n",
    "            x = sqedule[week][1]\n",
    "            break\n",
    "        if week == 4 and hour < 15:\n",
    "            x = sqedule[week][2]\n",
    "            break\n",
    "        "
   ]
  },
  {
   "cell_type": "code",
   "execution_count": 19,
   "id": "7967d741-59de-4102-97dc-c8a2fb43b58b",
   "metadata": {},
   "outputs": [
    {
     "name": "stdout",
     "output_type": "stream",
     "text": [
      "環境リスク : 柴田 : 8206\n"
     ]
    }
   ],
   "source": [
    "print(x)"
   ]
  },
  {
   "cell_type": "code",
   "execution_count": 20,
   "id": "304ee20b-7ac1-49d2-ba35-8396e7d8ee42",
   "metadata": {},
   "outputs": [],
   "source": [
    "Access_Token = info['token']\n",
    "line_bot_api = LineBotApi(Access_Token)\n",
    "\n",
    "def main():\n",
    "    User_Id = info['your_id']\n",
    "    message= TextSendMessage(text=x)\n",
    "    line_bot_api.push_message(User_Id,messages=message) \n"
   ]
  },
  {
   "cell_type": "code",
   "execution_count": 22,
   "id": "36670e50-86f6-4b0e-aac4-56a43bdfb41b",
   "metadata": {},
   "outputs": [],
   "source": [
    "if __name__ == \"__main__\":\n",
    "    main()"
   ]
  },
  {
   "cell_type": "code",
   "execution_count": null,
   "id": "b7c63893-c197-4030-95e3-67f2a780a77a",
   "metadata": {},
   "outputs": [],
   "source": []
  }
 ],
 "metadata": {
  "kernelspec": {
   "display_name": "Python 3 (ipykernel)",
   "language": "python",
   "name": "python3"
  },
  "language_info": {
   "codemirror_mode": {
    "name": "ipython",
    "version": 3
   },
   "file_extension": ".py",
   "mimetype": "text/x-python",
   "name": "python",
   "nbconvert_exporter": "python",
   "pygments_lexer": "ipython3",
   "version": "3.9.6"
  }
 },
 "nbformat": 4,
 "nbformat_minor": 5
}
